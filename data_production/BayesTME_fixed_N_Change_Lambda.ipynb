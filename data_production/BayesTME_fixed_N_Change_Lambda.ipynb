{
 "cells": [
  {
   "cell_type": "code",
   "execution_count": 2,
   "id": "daae983e",
   "metadata": {},
   "outputs": [],
   "source": [
    "import sys\n",
    "import urllib.request\n",
    "import numpy as np\n",
    "sys.path.insert(0, '/Users/joaquimteixeira/GSR_22_Tansey_Banerjee/bayestme-main/src')\n",
    "from bayestme import data\n",
    "from sklearn.model_selection import train_test_split\n",
    "from sklearn import decomposition\n",
    "import pandas as pd\n",
    "from sklearn import decomposition\n",
    "from bayestme import gene_filtering\n"
   ]
  },
  {
   "cell_type": "code",
   "execution_count": 3,
   "id": "7778d8e5",
   "metadata": {},
   "outputs": [],
   "source": [
    "import os \n",
    "import csv\n",
    "fls=os.listdir('/Users/joaquimteixeira/GSR_22_Tansey_Banerjee/teixeira_code/flipped_cohort_data/')\n",
    "fls=sorted(fls)\n",
    "n_comp = np.array(pd.read_csv(\"../teixeira_code/n_cell_type_cluster_expression.csv\").x)\n",
    "fout=[]\n",
    "for k in fls:\n",
    "    fout.append (k[:2])\n"
   ]
  },
  {
   "cell_type": "code",
   "execution_count": 5,
   "id": "64cfe637",
   "metadata": {},
   "outputs": [],
   "source": [
    "def fill_array (arr, fill_val):\n",
    "    sz=[]\n",
    "    for x in arr:\n",
    "        sz.append(len(x))\n",
    "    maxlen=np.max(sz)\n",
    "    new=[]\n",
    "    for x in arr:\n",
    "        while len(x)<maxlen:\n",
    "            x=np.append (x,-1)\n",
    "        new.append (x)\n",
    "    return new"
   ]
  },
  {
   "cell_type": "code",
   "execution_count": null,
   "id": "630ba9bb",
   "metadata": {},
   "outputs": [
    {
     "name": "stdout",
     "output_type": "stream",
     "text": [
      "A1.tsv\n"
     ]
    },
    {
     "name": "stderr",
     "output_type": "stream",
     "text": [
      "/Users/joaquimteixeira/GSR_22_Tansey_Banerjee/bayestme-main/src/bayestme/data.py:58: FutureWarning: X.dtype being converted to np.float32 from int64. In the next version of anndata (0.9) conversion will not be automatic. Pass dtype explicitly to avoid this warning. Pass `AnnData(X, dtype=X.dtype, ...)` to get the future behavour.\n",
      "  adata = anndata.AnnData(counts, obsm={SPATIAL_ATTR: coordinates})\n"
     ]
    }
   ],
   "source": [
    "p=0\n",
    "import os\n",
    "from bayestme import phenotype_selection\n",
    "from pathlib import Path\n",
    "from bayestme import deconvolution\n",
    "import h5py\n",
    "for f in fls:\n",
    "    print (f)\n",
    "    stdata = data.SpatialExpressionDataset.read_count_mat('/Users/joaquimteixeira/GSR_22_Tansey_Banerjee/teixeira_code/flipped_cohort_data/'+f)\n",
    "    from bayestme import gene_filtering\n",
    "\n",
    "    stddev_filtered = gene_filtering.select_top_genes_by_standard_deviation(\n",
    "        stdata, n_gene=1000)\n",
    "\n",
    "    spot_threshold_filtered = gene_filtering.filter_genes_by_spot_threshold(\n",
    "        stddev_filtered, spot_threshold=0.95)\n",
    "\n",
    "    stdata_filtered = gene_filtering.filter_ribosome_genes(spot_threshold_filtered)\n",
    "\n",
    "    n_genes=len(stdata_filtered.gene_names)\n",
    "    best_lambda=1000000\n",
    "    best_n_components=n_comp[p]\n",
    "    \n",
    "    deconvolution_result = deconvolution.deconvolve(\n",
    "            reads=stdata_filtered.reads,\n",
    "            edges=stdata_filtered.edges,\n",
    "            n_gene=n_genes,\n",
    "            n_components=best_n_components,\n",
    "            lam2=best_lambda,\n",
    "            n_samples=1000,\n",
    "            n_burnin=2000,\n",
    "            n_thin=5,\n",
    "            bkg=False,\n",
    "            lda=False)\n",
    "    out=deconvolution_result.__dict__\n",
    "    mg=deconvolution.select_marker_genes(deconvolution_result)\n",
    "    mg=np.array(fill_array(mg,-1))\n",
    "    with h5py.File('/Users/joaquimteixeira/GSR_22_Tansey_Banerjee/teixeira_code/deconvolution_results_1000_sims_lambda_10e5/'+fout[p]+'.h5', 'w') as h5file:\n",
    "        for key, item in out.items():\n",
    "            # note that not all variable types are supported but string and int are\n",
    "            if type (item)!=int:\n",
    "                if len (item.shape)>0:\n",
    "                    if item.shape[0]==1000:\n",
    "                        h5file [key] = np.mean (item, axis=0)\n",
    "                    else:\n",
    "                        h5file [key] = item\n",
    "            else:\n",
    "                h5file [key] = item\n",
    "        h5file['gene_names']=np.array(stdata_filtered.gene_names)\n",
    "        h5file['marker_genes']=mg\n",
    "        h5file.close()\n",
    "    p=p+1\n",
    "\n"
   ]
  },
  {
   "cell_type": "code",
   "execution_count": 1,
   "id": "4bb911a3",
   "metadata": {},
   "outputs": [
    {
     "data": {
      "text/plain": [
       "10000000.0"
      ]
     },
     "execution_count": 1,
     "metadata": {},
     "output_type": "execute_result"
    }
   ],
   "source": [
    "10e6"
   ]
  }
 ],
 "metadata": {
  "kernelspec": {
   "display_name": "Python 3 (ipykernel)",
   "language": "python",
   "name": "python3"
  },
  "language_info": {
   "codemirror_mode": {
    "name": "ipython",
    "version": 3
   },
   "file_extension": ".py",
   "mimetype": "text/x-python",
   "name": "python",
   "nbconvert_exporter": "python",
   "pygments_lexer": "ipython3",
   "version": "3.9.12"
  }
 },
 "nbformat": 4,
 "nbformat_minor": 5
}

{
 "cells": [
  {
   "cell_type": "markdown",
   "id": "bd5a2e76",
   "metadata": {},
   "source": []
  },
  {
   "cell_type": "code",
   "execution_count": null,
   "id": "ff4138aa",
   "metadata": {},
   "outputs": [],
   "source": [
    "import sys\n",
    "import urllib.request\n",
    "import numpy as np\n",
    "sys.path.insert(0, '/Users/joaquimteixeira/GSR_22_Tansey_Banerjee/bayestme-main/src')\n",
    "from bayestme import data\n",
    "from sklearn.model_selection import train_test_split\n",
    "from sklearn import decomposition\n",
    "import pandas as pd"
   ]
  },
  {
   "cell_type": "code",
   "execution_count": 76,
   "id": "11d25791",
   "metadata": {},
   "outputs": [
    {
     "data": {
      "text/plain": [
       "['A1', 'F1', 'G1', 'D1', 'H1', 'E1', 'B1', 'C1']"
      ]
     },
     "execution_count": 76,
     "metadata": {},
     "output_type": "execute_result"
    }
   ],
   "source": [
    "import os \n",
    "fls=os.listdir('/Users/joaquimteixeira/GSR_22_Tansey_Banerjee/teixeira_code/flipped_cohort_data/')\n",
    "fout=[]\n",
    "for k in fls:\n",
    "    fout.append (k[:2])\n",
    "fout"
   ]
  },
  {
   "cell_type": "code",
   "execution_count": 77,
   "id": "091a5a09",
   "metadata": {},
   "outputs": [
    {
     "name": "stdout",
     "output_type": "stream",
     "text": [
      "A1.tsv\n"
     ]
    },
    {
     "name": "stderr",
     "output_type": "stream",
     "text": [
      "/Users/joaquimteixeira/GSR_22_Tansey_Banerjee/bayestme-main/src/bayestme/data.py:58: FutureWarning: X.dtype being converted to np.float32 from int64. In the next version of anndata (0.9) conversion will not be automatic. Pass dtype explicitly to avoid this warning. Pass `AnnData(X, dtype=X.dtype, ...)` to get the future behavour.\n",
      "  adata = anndata.AnnData(counts, obsm={SPATIAL_ATTR: coordinates})\n"
     ]
    },
    {
     "ename": "KeyboardInterrupt",
     "evalue": "",
     "output_type": "error",
     "traceback": [
      "\u001b[0;31m---------------------------------------------------------------------------\u001b[0m",
      "\u001b[0;31mKeyboardInterrupt\u001b[0m                         Traceback (most recent call last)",
      "Input \u001b[0;32mIn [77]\u001b[0m, in \u001b[0;36m<cell line: 2>\u001b[0;34m()\u001b[0m\n\u001b[1;32m     21\u001b[0m parameter_generator \u001b[38;5;241m=\u001b[39m phenotype_selection\u001b[38;5;241m.\u001b[39mget_phenotype_selection_parameters_for_folds(\n\u001b[1;32m     22\u001b[0m     stdata\u001b[38;5;241m=\u001b[39mstdata_filtered,\n\u001b[1;32m     23\u001b[0m     n_fold\u001b[38;5;241m=\u001b[39m\u001b[38;5;241m5\u001b[39m,\n\u001b[0;32m   (...)\u001b[0m\n\u001b[1;32m     27\u001b[0m     n_components_max\u001b[38;5;241m=\u001b[39m\u001b[38;5;241m10\u001b[39m\n\u001b[1;32m     28\u001b[0m )\n\u001b[1;32m     31\u001b[0m \u001b[38;5;28;01mfor\u001b[39;00m job_index, (lam, n_components_for_job, mask, fold_number) \u001b[38;5;129;01min\u001b[39;00m \u001b[38;5;28menumerate\u001b[39m(parameter_generator):\n\u001b[0;32m---> 32\u001b[0m     result: data\u001b[38;5;241m.\u001b[39mPhenotypeSelectionResult \u001b[38;5;241m=\u001b[39m \u001b[43mphenotype_selection\u001b[49m\u001b[38;5;241;43m.\u001b[39;49m\u001b[43mrun_phenotype_selection_single_job\u001b[49m\u001b[43m(\u001b[49m\n\u001b[1;32m     33\u001b[0m \u001b[43m            \u001b[49m\u001b[43mlam\u001b[49m\u001b[38;5;241;43m=\u001b[39;49m\u001b[43mlam\u001b[49m\u001b[43m,\u001b[49m\n\u001b[1;32m     34\u001b[0m \u001b[43m            \u001b[49m\u001b[43mn_components\u001b[49m\u001b[38;5;241;43m=\u001b[39;49m\u001b[43mn_components_for_job\u001b[49m\u001b[43m,\u001b[49m\n\u001b[1;32m     35\u001b[0m \u001b[43m            \u001b[49m\u001b[43mmask\u001b[49m\u001b[38;5;241;43m=\u001b[39;49m\u001b[43mmask\u001b[49m\u001b[43m,\u001b[49m\n\u001b[1;32m     36\u001b[0m \u001b[43m            \u001b[49m\u001b[43mfold_number\u001b[49m\u001b[38;5;241;43m=\u001b[39;49m\u001b[43mfold_number\u001b[49m\u001b[43m,\u001b[49m\n\u001b[1;32m     37\u001b[0m \u001b[43m            \u001b[49m\u001b[43mstdata\u001b[49m\u001b[38;5;241;43m=\u001b[39;49m\u001b[43mstdata\u001b[49m\u001b[43m,\u001b[49m\n\u001b[1;32m     38\u001b[0m \u001b[43m            \u001b[49m\u001b[43mn_samples\u001b[49m\u001b[38;5;241;43m=\u001b[39;49m\u001b[38;5;241;43m100\u001b[39;49m\u001b[43m,\u001b[49m\n\u001b[1;32m     39\u001b[0m \u001b[43m            \u001b[49m\u001b[43mn_burn\u001b[49m\u001b[38;5;241;43m=\u001b[39;49m\u001b[38;5;241;43m2000\u001b[39;49m\u001b[43m,\u001b[49m\n\u001b[1;32m     40\u001b[0m \u001b[43m            \u001b[49m\u001b[43mn_thin\u001b[49m\u001b[38;5;241;43m=\u001b[39;49m\u001b[38;5;241;43m5\u001b[39;49m\u001b[43m,\u001b[49m\n\u001b[1;32m     41\u001b[0m \u001b[43m            \u001b[49m\u001b[43mmax_ncell\u001b[49m\u001b[38;5;241;43m=\u001b[39;49m\u001b[38;5;241;43m100\u001b[39;49m\u001b[43m,\u001b[49m\n\u001b[1;32m     42\u001b[0m \u001b[43m            \u001b[49m\u001b[43mn_gene\u001b[49m\u001b[38;5;241;43m=\u001b[39;49m\u001b[38;5;241;43m1000\u001b[39;49m\u001b[43m,\u001b[49m\n\u001b[1;32m     43\u001b[0m \u001b[43m            \u001b[49m\u001b[43mbackground_noise\u001b[49m\u001b[38;5;241;43m=\u001b[39;49m\u001b[38;5;28;43;01mFalse\u001b[39;49;00m\u001b[43m,\u001b[49m\n\u001b[1;32m     44\u001b[0m \u001b[43m            \u001b[49m\u001b[43mlda_initialization\u001b[49m\u001b[38;5;241;43m=\u001b[39;49m\u001b[38;5;28;43;01mFalse\u001b[39;49;00m\n\u001b[1;32m     45\u001b[0m \u001b[43m    \u001b[49m\u001b[43m)\u001b[49m\n\u001b[1;32m     46\u001b[0m     result\u001b[38;5;241m.\u001b[39msave(os\u001b[38;5;241m.\u001b[39mpath\u001b[38;5;241m.\u001b[39mjoin(\u001b[38;5;124m'\u001b[39m\u001b[38;5;124m./cohort_k_fold_results\u001b[39m\u001b[38;5;124m'\u001b[39m, \u001b[38;5;124m'\u001b[39m\u001b[38;5;124mfold_\u001b[39m\u001b[38;5;132;01m{}\u001b[39;00m\u001b[38;5;124m.h5ad\u001b[39m\u001b[38;5;124m'\u001b[39m\u001b[38;5;241m.\u001b[39mformat(job_index)))\n\u001b[1;32m     47\u001b[0m \u001b[38;5;28;01mfrom\u001b[39;00m \u001b[38;5;21;01mbayestme\u001b[39;00m \u001b[38;5;28;01mimport\u001b[39;00m cv_likelihoods\n",
      "File \u001b[0;32m~/GSR_22_Tansey_Banerjee/bayestme-main/src/bayestme/phenotype_selection.py:209\u001b[0m, in \u001b[0;36mrun_phenotype_selection_single_job\u001b[0;34m(lam, n_components, mask, fold_number, stdata, n_samples, n_burn, n_thin, max_ncell, n_gene, background_noise, lda_initialization)\u001b[0m\n\u001b[1;32m    199\u001b[0m train \u001b[38;5;241m=\u001b[39m train[:, stddev_ordering[:n_gene]]\n\u001b[1;32m    200\u001b[0m test \u001b[38;5;241m=\u001b[39m test[:, stddev_ordering[:n_gene]]\n\u001b[1;32m    202\u001b[0m (\n\u001b[1;32m    203\u001b[0m     cell_prob_trace,\n\u001b[1;32m    204\u001b[0m     cell_num_trace,\n\u001b[1;32m    205\u001b[0m     expression_trace,\n\u001b[1;32m    206\u001b[0m     beta_trace,\n\u001b[1;32m    207\u001b[0m     loglhtest_trace,\n\u001b[1;32m    208\u001b[0m     loglhtrain_trace\n\u001b[0;32m--> 209\u001b[0m ) \u001b[38;5;241m=\u001b[39m \u001b[43msample_graph_fused_multinomial\u001b[49m\u001b[43m(\u001b[49m\n\u001b[1;32m    210\u001b[0m \u001b[43m    \u001b[49m\u001b[43mtrain\u001b[49m\u001b[38;5;241;43m=\u001b[39;49m\u001b[43mtrain\u001b[49m\u001b[43m,\u001b[49m\n\u001b[1;32m    211\u001b[0m \u001b[43m    \u001b[49m\u001b[43mtest\u001b[49m\u001b[38;5;241;43m=\u001b[39;49m\u001b[43mtest\u001b[49m\u001b[43m,\u001b[49m\n\u001b[1;32m    212\u001b[0m \u001b[43m    \u001b[49m\u001b[43mn_components\u001b[49m\u001b[38;5;241;43m=\u001b[39;49m\u001b[43mn_components\u001b[49m\u001b[43m,\u001b[49m\n\u001b[1;32m    213\u001b[0m \u001b[43m    \u001b[49m\u001b[43medges\u001b[49m\u001b[38;5;241;43m=\u001b[39;49m\u001b[43mstdata\u001b[49m\u001b[38;5;241;43m.\u001b[39;49m\u001b[43medges\u001b[49m\u001b[43m,\u001b[49m\n\u001b[1;32m    214\u001b[0m \u001b[43m    \u001b[49m\u001b[43mn_gene\u001b[49m\u001b[38;5;241;43m=\u001b[39;49m\u001b[43mn_gene\u001b[49m\u001b[43m,\u001b[49m\n\u001b[1;32m    215\u001b[0m \u001b[43m    \u001b[49m\u001b[43mlam_psi\u001b[49m\u001b[38;5;241;43m=\u001b[39;49m\u001b[43mlam\u001b[49m\u001b[43m,\u001b[49m\n\u001b[1;32m    216\u001b[0m \u001b[43m    \u001b[49m\u001b[43mbackground_noise\u001b[49m\u001b[38;5;241;43m=\u001b[39;49m\u001b[43mbackground_noise\u001b[49m\u001b[43m,\u001b[49m\n\u001b[1;32m    217\u001b[0m \u001b[43m    \u001b[49m\u001b[43mlda_initialization\u001b[49m\u001b[38;5;241;43m=\u001b[39;49m\u001b[43mlda_initialization\u001b[49m\u001b[43m,\u001b[49m\n\u001b[1;32m    218\u001b[0m \u001b[43m    \u001b[49m\u001b[43mmask\u001b[49m\u001b[38;5;241;43m=\u001b[39;49m\u001b[43mmask\u001b[49m\u001b[43m,\u001b[49m\n\u001b[1;32m    219\u001b[0m \u001b[43m    \u001b[49m\u001b[43mn_max\u001b[49m\u001b[38;5;241;43m=\u001b[39;49m\u001b[43mmax_ncell\u001b[49m\u001b[43m,\u001b[49m\n\u001b[1;32m    220\u001b[0m \u001b[43m    \u001b[49m\u001b[43mn_samples\u001b[49m\u001b[38;5;241;43m=\u001b[39;49m\u001b[43mn_samples\u001b[49m\u001b[43m,\u001b[49m\n\u001b[1;32m    221\u001b[0m \u001b[43m    \u001b[49m\u001b[43mn_thin\u001b[49m\u001b[38;5;241;43m=\u001b[39;49m\u001b[43mn_thin\u001b[49m\u001b[43m,\u001b[49m\n\u001b[1;32m    222\u001b[0m \u001b[43m    \u001b[49m\u001b[43mn_burn\u001b[49m\u001b[38;5;241;43m=\u001b[39;49m\u001b[43mn_burn\u001b[49m\u001b[43m)\u001b[49m\n\u001b[1;32m    224\u001b[0m \u001b[38;5;28;01mreturn\u001b[39;00m data\u001b[38;5;241m.\u001b[39mPhenotypeSelectionResult(\n\u001b[1;32m    225\u001b[0m     mask\u001b[38;5;241m=\u001b[39mmask,\n\u001b[1;32m    226\u001b[0m     cell_prob_trace\u001b[38;5;241m=\u001b[39mcell_prob_trace,\n\u001b[0;32m   (...)\u001b[0m\n\u001b[1;32m    233\u001b[0m     n_components\u001b[38;5;241m=\u001b[39mn_components,\n\u001b[1;32m    234\u001b[0m     fold_number\u001b[38;5;241m=\u001b[39mfold_number)\n",
      "File \u001b[0;32m~/GSR_22_Tansey_Banerjee/bayestme-main/src/bayestme/phenotype_selection.py:151\u001b[0m, in \u001b[0;36msample_graph_fused_multinomial\u001b[0;34m(train, test, n_components, edges, n_gene, lam_psi, background_noise, lda_initialization, mask, n_max, n_samples, n_thin, n_burn, rng)\u001b[0m\n\u001b[1;32m    149\u001b[0m     logger\u001b[38;5;241m.\u001b[39minfo(\u001b[38;5;124mf\u001b[39m\u001b[38;5;124m'\u001b[39m\u001b[38;5;124mStep \u001b[39m\u001b[38;5;132;01m{\u001b[39;00mstep\u001b[38;5;132;01m}\u001b[39;00m\u001b[38;5;124m'\u001b[39m)\n\u001b[1;32m    150\u001b[0m \u001b[38;5;66;03m# perform Gibbs sampling\u001b[39;00m\n\u001b[0;32m--> 151\u001b[0m \u001b[43mgraph_fused_multinomial\u001b[49m\u001b[38;5;241;43m.\u001b[39;49m\u001b[43msample\u001b[49m\u001b[43m(\u001b[49m\u001b[43mtrain\u001b[49m\u001b[43m)\u001b[49m\n\u001b[1;32m    152\u001b[0m \u001b[38;5;66;03m# save the trace of GFMM parameters\u001b[39;00m\n\u001b[1;32m    153\u001b[0m \u001b[38;5;28;01mif\u001b[39;00m step \u001b[38;5;241m>\u001b[39m\u001b[38;5;241m=\u001b[39m n_burn \u001b[38;5;129;01mand\u001b[39;00m (step \u001b[38;5;241m-\u001b[39m n_burn) \u001b[38;5;241m%\u001b[39m n_thin \u001b[38;5;241m==\u001b[39m \u001b[38;5;241m0\u001b[39m:\n",
      "File \u001b[0;32m~/GSR_22_Tansey_Banerjee/bayestme-main/src/bayestme/model_bkg.py:195\u001b[0m, in \u001b[0;36mGraphFusedMultinomial.sample\u001b[0;34m(self, Obs)\u001b[0m\n\u001b[1;32m    193\u001b[0m \u001b[38;5;28mself\u001b[39m\u001b[38;5;241m.\u001b[39msample_reads(Obs)\n\u001b[1;32m    194\u001b[0m \u001b[38;5;28mself\u001b[39m\u001b[38;5;241m.\u001b[39msample_phi()\n\u001b[0;32m--> 195\u001b[0m \u001b[38;5;28;43mself\u001b[39;49m\u001b[38;5;241;43m.\u001b[39;49m\u001b[43msample_cell_num\u001b[49m\u001b[43m(\u001b[49m\u001b[43m)\u001b[49m\n\u001b[1;32m    196\u001b[0m \u001b[38;5;28mself\u001b[39m\u001b[38;5;241m.\u001b[39msample_probs()\n\u001b[1;32m    197\u001b[0m \u001b[38;5;28mself\u001b[39m\u001b[38;5;241m.\u001b[39msample_beta()\n",
      "File \u001b[0;32m~/GSR_22_Tansey_Banerjee/bayestme-main/src/bayestme/model_bkg.py:155\u001b[0m, in \u001b[0;36mGraphFusedMultinomial.sample_cell_num\u001b[0;34m(self)\u001b[0m\n\u001b[1;32m    152\u001b[0m \u001b[38;5;66;03m# print(np.argwhere(np.isinf(np.exp(-self.gtf_psi.Thetas[:, 1:]))))\u001b[39;00m\n\u001b[1;32m    153\u001b[0m start_prob \u001b[38;5;241m=\u001b[39m np\u001b[38;5;241m.\u001b[39marray(\n\u001b[1;32m    154\u001b[0m     [binom\u001b[38;5;241m.\u001b[39mlogpmf(np\u001b[38;5;241m.\u001b[39marange(\u001b[38;5;28mself\u001b[39m\u001b[38;5;241m.\u001b[39mn_max \u001b[38;5;241m+\u001b[39m \u001b[38;5;241m1\u001b[39m), \u001b[38;5;28mself\u001b[39m\u001b[38;5;241m.\u001b[39mn_max, p\u001b[38;5;241m=\u001b[39m\u001b[38;5;28mself\u001b[39m\u001b[38;5;241m.\u001b[39mprobs[i, \u001b[38;5;241m0\u001b[39m]) \u001b[38;5;28;01mfor\u001b[39;00m i \u001b[38;5;129;01min\u001b[39;00m \u001b[38;5;28mrange\u001b[39m(\u001b[38;5;28mself\u001b[39m\u001b[38;5;241m.\u001b[39mn_nodes)])\n\u001b[0;32m--> 155\u001b[0m \u001b[38;5;28mself\u001b[39m\u001b[38;5;241m.\u001b[39mTransition \u001b[38;5;241m=\u001b[39m \u001b[43mtransition_mat_vec\u001b[49m\u001b[43m(\u001b[49m\u001b[43mprob\u001b[49m\u001b[43m,\u001b[49m\u001b[43m \u001b[49m\u001b[38;5;28;43mself\u001b[39;49m\u001b[38;5;241;43m.\u001b[39;49m\u001b[43mn_max\u001b[49m\u001b[43m \u001b[49m\u001b[38;5;241;43m+\u001b[39;49m\u001b[43m \u001b[49m\u001b[38;5;241;43m1\u001b[39;49m\u001b[43m)\u001b[49m\n\u001b[1;32m    156\u001b[0m log_transition \u001b[38;5;241m=\u001b[39m np\u001b[38;5;241m.\u001b[39mlog(\u001b[38;5;28mself\u001b[39m\u001b[38;5;241m.\u001b[39mTransition)\n\u001b[1;32m    157\u001b[0m \u001b[38;5;28;01mif\u001b[39;00m \u001b[38;5;28mself\u001b[39m\u001b[38;5;241m.\u001b[39mbkg:\n",
      "File \u001b[0;32m~/GSR_22_Tansey_Banerjee/bayestme-main/src/bayestme/hmm_fast.py:20\u001b[0m, in \u001b[0;36mtransition_mat_vec\u001b[0;34m(phi, n_max, ifsigma)\u001b[0m\n\u001b[1;32m     18\u001b[0m \u001b[38;5;28;01mfor\u001b[39;00m n \u001b[38;5;129;01min\u001b[39;00m \u001b[38;5;28mrange\u001b[39m(n_max):\n\u001b[1;32m     19\u001b[0m     coeff \u001b[38;5;241m=\u001b[39m np\u001b[38;5;241m.\u001b[39marray([scs\u001b[38;5;241m.\u001b[39mbinom(n, k) \u001b[38;5;28;01mfor\u001b[39;00m k \u001b[38;5;129;01min\u001b[39;00m \u001b[38;5;28mrange\u001b[39m(n \u001b[38;5;241m+\u001b[39m \u001b[38;5;241m1\u001b[39m)])\n\u001b[0;32m---> 20\u001b[0m     T[:, :, n, :(n \u001b[38;5;241m+\u001b[39m \u001b[38;5;241m1\u001b[39m)] \u001b[38;5;241m=\u001b[39m coeff \u001b[38;5;241m*\u001b[39m p_s[:, :, :(n \u001b[38;5;241m+\u001b[39m \u001b[38;5;241m1\u001b[39m)] \u001b[38;5;241m*\u001b[39m p_f[:, :, :(n \u001b[38;5;241m+\u001b[39m \u001b[38;5;241m1\u001b[39m)][:, :, ::\u001b[38;5;241m-\u001b[39m\u001b[38;5;241m1\u001b[39m]\n\u001b[1;32m     21\u001b[0m \u001b[38;5;28;01mreturn\u001b[39;00m T\n",
      "\u001b[0;31mKeyboardInterrupt\u001b[0m: "
     ]
    }
   ],
   "source": [
    "p=0\n",
    "for f in fls:\n",
    "    print (f)\n",
    "    stdata = data.SpatialExpressionDataset.read_count_mat('/Users/joaquimteixeira/GSR_22_Tansey_Banerjee/teixeira_code/flipped_cohort_data/'+f)\n",
    "    from bayestme import gene_filtering\n",
    "\n",
    "    stddev_filtered = gene_filtering.select_top_genes_by_standard_deviation(\n",
    "        stdata, n_gene=1000)\n",
    "\n",
    "    spot_threshold_filtered = gene_filtering.filter_genes_by_spot_threshold(\n",
    "        stddev_filtered, spot_threshold=0.95)\n",
    "\n",
    "    stdata_filtered = gene_filtering.filter_ribosome_genes(spot_threshold_filtered)\n",
    "    import os\n",
    "    from bayestme import phenotype_selection\n",
    "    from pathlib import Path\n",
    "\n",
    "    Path(\"./cohort_k_fold_results\").mkdir(exist_ok=True)\n",
    "\n",
    "\n",
    "    parameter_generator = phenotype_selection.get_phenotype_selection_parameters_for_folds(\n",
    "        stdata=stdata_filtered,\n",
    "        n_fold=5,\n",
    "        n_splits=15,\n",
    "        lams=[10, 100, 1000,10000,100000,1000000],\n",
    "        n_components_min=2,\n",
    "        n_components_max=10\n",
    "    )\n",
    "\n",
    "\n",
    "    for job_index, (lam, n_components_for_job, mask, fold_number) in enumerate(parameter_generator):\n",
    "        result: data.PhenotypeSelectionResult = w.run_phenotype_selection_single_job(\n",
    "                lam=lam,\n",
    "                n_components=n_components_for_job,\n",
    "                mask=mask,\n",
    "                fold_number=fold_number,\n",
    "                stdata=stdata,\n",
    "                n_samples=100,\n",
    "                n_burn=2000,\n",
    "                n_thin=5,\n",
    "                max_ncell=100,\n",
    "                n_gene=1000,\n",
    "                background_noise=False,\n",
    "                lda_initialization=False\n",
    "        )\n",
    "        result.save(os.path.join('./cohort_k_fold_results', 'fold_{}.h5ad'.format(job_index)))\n",
    "    from bayestme import cv_likelihoods\n",
    "    from IPython.display import Image\n",
    "\n",
    "\n",
    "    likelihoods, fold_nums, lam_vals, k_vals = cv_likelihoods.load_likelihoods('./cohort_k_fold_results')\n",
    "\n",
    "    best_n_components = cv_likelihoods.get_max_likelihood_n_components(likelihoods, k_vals)\n",
    "    print (best_n_components)\n",
    "\n",
    "    best_lambda = cv_likelihoods.get_best_lambda_value(\n",
    "        likelihoods,\n",
    "        best_n_components,\n",
    "        lam_vals,\n",
    "        k_vals)\n",
    "\n",
    "    cv_likelihoods.plot_cv_running('./cohort_k_fold_results', out_path='.', output_format='png')\n",
    "    from bayestme import deconvolution\n",
    "\n",
    "    deconvolution_result = deconvolution.deconvolve(\n",
    "            reads=stdata_filtered.reads,\n",
    "            edges=stdata_filtered.edges,\n",
    "            n_gene=931,\n",
    "            n_components=best_n_components,\n",
    "            lam2=best_lambda,\n",
    "            n_samples=1000,\n",
    "            n_burnin=2000,\n",
    "            n_thin=5,\n",
    "            bkg=False,\n",
    "            lda=False)\n",
    "    deconvolution_result.save('/Users/joaquimteixeira/GSR_22_Tansey_Banerjee/teixeira_code/deconvolution_results/'+fout[p]+'.h5ad')\n",
    "    p=p+1\n"
   ]
  }
 ],
 "metadata": {
  "kernelspec": {
   "display_name": "Python 3 (ipykernel)",
   "language": "python",
   "name": "python3"
  },
  "language_info": {
   "codemirror_mode": {
    "name": "ipython",
    "version": 3
   },
   "file_extension": ".py",
   "mimetype": "text/x-python",
   "name": "python",
   "nbconvert_exporter": "python",
   "pygments_lexer": "ipython3",
   "version": "3.9.12"
  }
 },
 "nbformat": 4,
 "nbformat_minor": 5
}

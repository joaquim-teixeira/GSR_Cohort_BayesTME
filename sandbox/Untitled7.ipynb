{
 "cells": [
  {
   "cell_type": "code",
   "execution_count": 2,
   "id": "55a3eb9e",
   "metadata": {},
   "outputs": [
    {
     "name": "stderr",
     "output_type": "stream",
     "text": [
      "/Users/joaquimteixeira/GSR_22_Tansey_Banerjee/bayestme-main/src/bayestme/data.py:58: FutureWarning: X.dtype being converted to np.float32 from int64. In the next version of anndata (0.9) conversion will not be automatic. Pass dtype explicitly to avoid this warning. Pass `AnnData(X, dtype=X.dtype, ...)` to get the future behavour.\n",
      "  adata = anndata.AnnData(counts, obsm={SPATIAL_ATTR: coordinates})\n",
      "/Users/joaquimteixeira/GSR_22_Tansey_Banerjee/bayestme-main/src/bayestme/data.py:58: FutureWarning: X.dtype being converted to np.float32 from int64. In the next version of anndata (0.9) conversion will not be automatic. Pass dtype explicitly to avoid this warning. Pass `AnnData(X, dtype=X.dtype, ...)` to get the future behavour.\n",
      "  adata = anndata.AnnData(counts, obsm={SPATIAL_ATTR: coordinates})\n",
      "/Users/joaquimteixeira/GSR_22_Tansey_Banerjee/bayestme-main/src/bayestme/data.py:58: FutureWarning: X.dtype being converted to np.float32 from int64. In the next version of anndata (0.9) conversion will not be automatic. Pass dtype explicitly to avoid this warning. Pass `AnnData(X, dtype=X.dtype, ...)` to get the future behavour.\n",
      "  adata = anndata.AnnData(counts, obsm={SPATIAL_ATTR: coordinates})\n",
      "/Users/joaquimteixeira/GSR_22_Tansey_Banerjee/bayestme-main/src/bayestme/data.py:58: FutureWarning: X.dtype being converted to np.float32 from int64. In the next version of anndata (0.9) conversion will not be automatic. Pass dtype explicitly to avoid this warning. Pass `AnnData(X, dtype=X.dtype, ...)` to get the future behavour.\n",
      "  adata = anndata.AnnData(counts, obsm={SPATIAL_ATTR: coordinates})\n",
      "/Users/joaquimteixeira/GSR_22_Tansey_Banerjee/bayestme-main/src/bayestme/data.py:58: FutureWarning: X.dtype being converted to np.float32 from int64. In the next version of anndata (0.9) conversion will not be automatic. Pass dtype explicitly to avoid this warning. Pass `AnnData(X, dtype=X.dtype, ...)` to get the future behavour.\n",
      "  adata = anndata.AnnData(counts, obsm={SPATIAL_ATTR: coordinates})\n",
      "/Users/joaquimteixeira/GSR_22_Tansey_Banerjee/bayestme-main/src/bayestme/data.py:58: FutureWarning: X.dtype being converted to np.float32 from int64. In the next version of anndata (0.9) conversion will not be automatic. Pass dtype explicitly to avoid this warning. Pass `AnnData(X, dtype=X.dtype, ...)` to get the future behavour.\n",
      "  adata = anndata.AnnData(counts, obsm={SPATIAL_ATTR: coordinates})\n"
     ]
    }
   ],
   "source": [
    "import gensim\n",
    "import sys\n",
    "import urllib.request\n",
    "import numpy as np\n",
    "sys.path.insert(0, '/Users/joaquimteixeira/GSR_22_Tansey_Banerjee/bayestme-main/src')\n",
    "from bayestme import data\n",
    "from sklearn.model_selection import train_test_split\n",
    "from sklearn import decomposition\n",
    "import pandas as pd\n",
    "from sklearn import decomposition\n",
    "from bayestme import gene_filtering\n",
    "import os \n",
    "fls=os.listdir('/Users/joaquimteixeira/GSR_22_Tansey_Banerjee/teixeira_code/flipped_cohort_data/')\n",
    "fls= [k for k in fls if 'A' in k]\n",
    "fout=[]\n",
    "for k in fls:\n",
    "    fout.append (k[:2])\n",
    "fout\n",
    "pds=[]\n",
    "sts=[]\n",
    "for f in fls:\n",
    "    stdata = data.SpatialExpressionDataset.read_count_mat('/Users/joaquimteixeira/GSR_22_Tansey_Banerjee/teixeira_code/flipped_cohort_data/'+f)\n",
    "    stddev_filtered = gene_filtering.select_top_genes_by_standard_deviation(\n",
    "        stdata, n_gene=2000)\n",
    "\n",
    "    spot_threshold_filtered = gene_filtering.filter_genes_by_spot_threshold(\n",
    "        stddev_filtered, spot_threshold=0.95)\n",
    "\n",
    "    stdata_filtered = gene_filtering.filter_ribosome_genes(spot_threshold_filtered)\n",
    "    sts.append (stdata_filtered)\n",
    "    df=pd.DataFrame(stdata_filtered.raw_counts)\n",
    "    df.columns=stdata_filtered.gene_names\n",
    "    pds.append (df)\n",
    "    "
   ]
  },
  {
   "cell_type": "code",
   "execution_count": 4,
   "id": "9131cdeb",
   "metadata": {},
   "outputs": [
    {
     "data": {
      "text/plain": [
       "array([6, 6, 6, 6, 6, 6, 6, 6, 6, 6, 6, 6, 7, 7, 7, 7, 7, 7, 6, 6, 6, 6,\n",
       "       6, 6, 5, 5, 5, 4, 4, 4, 7, 7, 7, 5, 5, 5])"
      ]
     },
     "execution_count": 4,
     "metadata": {},
     "output_type": "execute_result"
    }
   ],
   "source": []
  }
 ],
 "metadata": {
  "kernelspec": {
   "display_name": "Python 3 (ipykernel)",
   "language": "python",
   "name": "python3"
  },
  "language_info": {
   "codemirror_mode": {
    "name": "ipython",
    "version": 3
   },
   "file_extension": ".py",
   "mimetype": "text/x-python",
   "name": "python",
   "nbconvert_exporter": "python",
   "pygments_lexer": "ipython3",
   "version": "3.9.12"
  }
 },
 "nbformat": 4,
 "nbformat_minor": 5
}

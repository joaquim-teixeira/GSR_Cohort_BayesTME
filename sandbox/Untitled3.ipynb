{
 "cells": [
  {
   "cell_type": "code",
   "execution_count": null,
   "id": "c0c73745",
   "metadata": {},
   "outputs": [],
   "source": [
    "import sys\n",
    "import urllib.request\n",
    "import numpy as np\n",
    "sys.path.insert(0, '/Users/joaquimteixeira/GSR_22_Tansey_Banerjee/bayestme-main/src')\n",
    "from bayestme import data\n",
    "from sklearn.model_selection import train_test_split\n",
    "from sklearn import decomposition\n",
    "import pandas as pd\n",
    "from bayestme import deconvolution\n",
    "from pathlib import Path\n",
    "from IPython.display import Image\n",
    "stdata = data.SpatialExpressionDataset.read_count_mat('/Users/joaquimteixeira/GSR_22_Tansey_Banerjee/teixeira_code/flipped_cohort_data/C1.tsv')\n",
    "\n",
    "from bayestme import gene_filtering\n",
    "\n",
    "stddev_filtered = gene_filtering.select_top_genes_by_standard_deviation(\n",
    "    stdata, n_gene=1000)\n",
    "\n",
    "spot_threshold_filtered = gene_filtering.filter_genes_by_spot_threshold(\n",
    "    stddev_filtered, spot_threshold=0.95)\n",
    "\n",
    "stdata_filtered = gene_filtering.filter_ribosome_genes(spot_threshold_filtered)\n",
    "\n",
    "\n",
    "deconvolution_result = data.DeconvolutionResult.read_h5('../teixeira_code/deconvolution_results_matching_component_/A1.h5ad')\n",
    "\n",
    "\n"
   ]
  },
  {
   "cell_type": "code",
   "execution_count": null,
   "id": "3ba91cb8",
   "metadata": {},
   "outputs": [],
   "source": [
    "data."
   ]
  }
 ],
 "metadata": {
  "kernelspec": {
   "display_name": "Python 3 (ipykernel)",
   "language": "python",
   "name": "python3"
  },
  "language_info": {
   "codemirror_mode": {
    "name": "ipython",
    "version": 3
   },
   "file_extension": ".py",
   "mimetype": "text/x-python",
   "name": "python",
   "nbconvert_exporter": "python",
   "pygments_lexer": "ipython3",
   "version": "3.9.12"
  }
 },
 "nbformat": 4,
 "nbformat_minor": 5
}
